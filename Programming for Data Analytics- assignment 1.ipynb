{
 "cells": [
  {
   "cell_type": "markdown",
   "id": "f6c330ff",
   "metadata": {},
   "source": [
    "# EXCERCISE 2.15 (CHAPTER 2 : PYTHON FOR EVERYBODY)"
   ]
  },
  {
   "cell_type": "markdown",
   "id": "e4749a70",
   "metadata": {},
   "source": [
    "### Exercise 2: Write a program that uses input to prompt a user for their name and then welcomes them."
   ]
  },
  {
   "cell_type": "code",
   "execution_count": 31,
   "id": "b45cc13d",
   "metadata": {},
   "outputs": [
    {
     "name": "stdout",
     "output_type": "stream",
     "text": [
      "Enter your name: Chuck\n",
      "Hello Chuck\n"
     ]
    },
    {
     "data": {
      "text/plain": [
       "'Chuck'"
      ]
     },
     "execution_count": 31,
     "metadata": {},
     "output_type": "execute_result"
    }
   ],
   "source": [
    "#Using the input function\n",
    "input ('Enter your name: ')\n",
    "input('Hello ')"
   ]
  },
  {
   "cell_type": "markdown",
   "id": "fbfdec9a",
   "metadata": {},
   "source": [
    "### Exercise 3: Write a program to prompt the user for hours and rate per hour to compute gross pay."
   ]
  },
  {
   "cell_type": "code",
   "execution_count": 35,
   "id": "1ecb51de",
   "metadata": {},
   "outputs": [
    {
     "name": "stdout",
     "output_type": "stream",
     "text": [
      "Enter Hours: 35\n",
      "Enter Rate: 2.75\n",
      "Pay: 96.25\n"
     ]
    }
   ],
   "source": [
    "#Convert everything to be of the smae data type, i.e float\n",
    "Hours = float(input('Enter Hours: '))\n",
    "Rate = float(input('Enter Rate: '))\n",
    "Pay = Hours * Rate \n",
    "Pay = print('Pay:', Pay)"
   ]
  },
  {
   "cell_type": "markdown",
   "id": "485c79db",
   "metadata": {},
   "source": [
    "## Exercise 4: Assume that we execute the following assignment statements: width = 17 height = 12.0.                                                                                                                                                            For each of the following expressions, write the value of the expression and the type (of the value of the expression)."
   ]
  },
  {
   "cell_type": "code",
   "execution_count": 40,
   "id": "b5896f16",
   "metadata": {},
   "outputs": [
    {
     "name": "stdout",
     "output_type": "stream",
     "text": [
      "8\n",
      "<class 'int'>\n"
     ]
    }
   ],
   "source": [
    "width = 17\n",
    "height = 12.0\n",
    "\n",
    "#1.width//2\n",
    "#The value of the expression\n",
    "print(width//2)\n",
    "\n",
    "#The type of the expression\n",
    "print(type(width//2))"
   ]
  },
  {
   "cell_type": "code",
   "execution_count": 44,
   "id": "99a6fb6e",
   "metadata": {},
   "outputs": [
    {
     "name": "stdout",
     "output_type": "stream",
     "text": [
      "8.5\n",
      "<class 'float'>\n"
     ]
    }
   ],
   "source": [
    "#2. width/2.0\n",
    "#The value of the expression\n",
    "print(width/2.0)\n",
    "\n",
    "#The type of the expression\n",
    "print(type(width/2.0))"
   ]
  },
  {
   "cell_type": "code",
   "execution_count": 51,
   "id": "4939e222",
   "metadata": {},
   "outputs": [
    {
     "name": "stdout",
     "output_type": "stream",
     "text": [
      "4.0\n",
      "<class 'float'>\n"
     ]
    }
   ],
   "source": [
    "#3. Height/3\n",
    "#The value of the expression\n",
    "print(height/3)\n",
    "\n",
    "#The type of the expression\n",
    "print(type(height/3))"
   ]
  },
  {
   "cell_type": "code",
   "execution_count": 50,
   "id": "aea521ed",
   "metadata": {},
   "outputs": [
    {
     "name": "stdout",
     "output_type": "stream",
     "text": [
      "11\n",
      "11\n"
     ]
    },
    {
     "data": {
      "text/plain": [
       "NoneType"
      ]
     },
     "execution_count": 50,
     "metadata": {},
     "output_type": "execute_result"
    }
   ],
   "source": [
    "#4\n",
    "#The value of the expression\n",
    "print(1+2*5)\n",
    "\n",
    "#The type of the expression\n",
    "type(print(1+2*5))"
   ]
  },
  {
   "cell_type": "markdown",
   "id": "17372ce4",
   "metadata": {},
   "source": [
    "## Exercise 5: Write a program which prompts the user for a Celsius temperature, convert the temperature to Fahrenheit, and print out the converted temperature."
   ]
  },
  {
   "cell_type": "code",
   "execution_count": 60,
   "id": "1c460de1",
   "metadata": {},
   "outputs": [
    {
     "name": "stdout",
     "output_type": "stream",
     "text": [
      "Celsius temperature: 22\n",
      "Fahrenheit:  71.6\n"
     ]
    }
   ],
   "source": [
    "Celsius_temperature = float(input('Celsius temperature: '))\n",
    "\n",
    "#Get the formula for converting temperature to Fahrenheit\n",
    "Fahrenheit = (Celsius_temperature * 9/5) + 32\n",
    "\n",
    "print('Fahrenheit: ',Fahrenheit)\n"
   ]
  }
 ],
 "metadata": {
  "kernelspec": {
   "display_name": "Python 3 (ipykernel)",
   "language": "python",
   "name": "python3"
  },
  "language_info": {
   "codemirror_mode": {
    "name": "ipython",
    "version": 3
   },
   "file_extension": ".py",
   "mimetype": "text/x-python",
   "name": "python",
   "nbconvert_exporter": "python",
   "pygments_lexer": "ipython3",
   "version": "3.11.4"
  }
 },
 "nbformat": 4,
 "nbformat_minor": 5
}
